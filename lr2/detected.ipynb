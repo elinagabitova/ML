{
 "cells": [
  {
   "cell_type": "code",
   "execution_count": 2,
   "metadata": {},
   "outputs": [],
   "source": [
    "import os.path\n",
    "import cv2\n",
    "\n",
    "color_countur = (120,120,120)\n",
    "color_text = (255, 255, 255)\n",
    "n = 1\n",
    "\n",
    "while True:\n",
    "    if not os.path.exists(f\"img_{n}.png\"): break\n",
    "\n",
    "    img = cv2.imread(f\"img_{n}.png\")\n",
    "    imgGray = cv2.cvtColor(img, cv2.COLOR_BGR2GRAY)\n",
    "    contours, _ = cv2.findContours(imgGray, cv2.RETR_TREE, cv2.CHAIN_APPROX_NONE)\n",
    "\n",
    "    for contour in contours:\n",
    "        app = cv2.approxPolyDP(contour, 0.01 * cv2.arcLength(contour, True), True)\n",
    "        cv2.drawContours(img, [app], 0, color_countur, 2)\n",
    "\n",
    "        x = app.ravel()[0] \n",
    "        y = app.ravel()[1]\n",
    "\n",
    "        if len(app) == 5 or len(app) == 6:\n",
    "            cv2.putText(img, \"pentagon\", (x, y), cv2.FONT_HERSHEY_TRIPLEX, 0.5, color_text)\n",
    "        elif len(app) == 3:    \n",
    "            cv2.putText(img, \"triangle\", (x, y), cv2.FONT_HERSHEY_TRIPLEX, 0.5, color_text)\n",
    "            \n",
    "        elif len(app) == 4:\n",
    "            x, y, w, h = cv2.boundingRect(app)\n",
    "            Ratio = float(w) / h\n",
    "\n",
    "            if Ratio >= 0.9 and Ratio < 1.05:\n",
    "                cv2.putText(img, \"square\", (x, y), cv2.FONT_HERSHEY_TRIPLEX, 0.5, color_text)\n",
    "            else:\n",
    "                cv2.putText(img, \"rectangle\", (x, y), cv2.FONT_HERSHEY_TRIPLEX, 0.5, color_text)\n",
    "        else:\n",
    "            cv2.putText(img, \"circle\", (x, y), cv2.FONT_HERSHEY_TRIPLEX, 0.5, color_text)\n",
    "\n",
    "    cv2.imwrite(f\"detected_{n}.png\", img)\n",
    "    n += 1"
   ]
  }
 ],
 "metadata": {
  "kernelspec": {
   "display_name": "Python 3",
   "language": "python",
   "name": "python3"
  },
  "language_info": {
   "codemirror_mode": {
    "name": "ipython",
    "version": 3
   },
   "file_extension": ".py",
   "mimetype": "text/x-python",
   "name": "python",
   "nbconvert_exporter": "python",
   "pygments_lexer": "ipython3",
   "version": "3.8.5"
  }
 },
 "nbformat": 4,
 "nbformat_minor": 4
}
