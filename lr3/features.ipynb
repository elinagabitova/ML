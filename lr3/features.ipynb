{
 "cells": [
  {
   "cell_type": "code",
   "execution_count": 6,
   "metadata": {
    "scrolled": false
   },
   "outputs": [
    {
     "name": "stdout",
     "output_type": "stream",
     "text": [
      "Изображения Chansey обработаны\n",
      "Изображения Grimer обработаны\n",
      "Изображения Lickitung обработаны\n",
      "Изображения Muk обработаны\n",
      "Изображения Slowbro обработаны\n",
      "Изображения Slowpoke обработаны\n"
     ]
    }
   ],
   "source": [
    "import os\n",
    "import cv2\n",
    "import mahotas\n",
    "from collections import namedtuple\n",
    "import numpy as np\n",
    "from sklearn.preprocessing import LabelEncoder\n",
    "from sklearn.preprocessing import MinMaxScaler\n",
    "import h5py\n",
    "\n",
    "def hu_feature(image):\n",
    "    image = cv2.cvtColor(image, cv2.COLOR_BGR2GRAY)\n",
    "    feature = cv2.HuMoments(cv2.moments(image)).flatten()\n",
    "    return feature\n",
    "\n",
    "def color(image, mask=None):\n",
    "    image = cv2.cvtColor(image, cv2.COLOR_BGR2HSV)\n",
    "    hist = cv2.calcHist([image], [0, 1, 2], None, [8, 8, 8], [0, 256, 0, 256, 0, 256])\n",
    "    cv2.normalize(hist, hist)\n",
    "    return hist.flatten()\n",
    "\n",
    "def texture(image):\n",
    "    gray = cv2.cvtColor(image, cv2.COLOR_BGR2GRAY)\n",
    "    haralick = mahotas.features.haralick(gray).mean(axis=0)\n",
    "    return haralick\n",
    "\n",
    "def extract_features(image_path):\n",
    "    image = cv2.imread(image_path)\n",
    "    Features = namedtuple('Features', 'hu color texture')\n",
    "    features = Features(hu_feature(image),\n",
    "                        color(image),\n",
    "                        texture_feature(image),\n",
    "                        )\n",
    "    return np.hstack([features.hu, features.color, features.texture])\n",
    "\n",
    "def normalization_features(features):\n",
    "    scaler = MinMaxScaler(feature_range=(0, 1))\n",
    "    return scaler.fit_transform(features)\n",
    "\n",
    "if __name__ == '__main__':\n",
    "    train_dir = os.path.join(os.getcwd(), 'train')\n",
    "    global_features = []\n",
    "    labels = []\n",
    "    for dir in os.listdir(train_dir):\n",
    "        current_dir = os.path.join(train_dir, dir)\n",
    "        for image_path in os.listdir(current_dir):\n",
    "            if image_path.endswith(\".jpg\") or image_path.endswith(\".png\"):\n",
    "                global_image_path = os.path.join(current_dir, image_path)\n",
    "                img_features = extract_features(global_image_path)\n",
    "                global_features.append(img_features)\n",
    "                labels.append(dir)\n",
    "        print(f'Изображения {dir} обработаны')\n",
    "\n",
    "    rescaled_features = normalization_features(global_features)\n",
    "    target = LabelEncoder().fit_transform(labels)\n",
    "    with h5py.File('feature_values', 'w') as h5f_data:\n",
    "        h5f_data.create_dataset('dataset_1', data=np.array(rescaled_features))\n",
    "    with h5py.File('pokemon_names', 'w') as h5f_label:\n",
    "        h5f_label.create_dataset('dataset_1', data=np.array(target))\n"
   ]
  },
  {
   "cell_type": "code",
   "execution_count": null,
   "metadata": {},
   "outputs": [],
   "source": []
  }
 ],
 "metadata": {
  "kernelspec": {
   "display_name": "Python 3",
   "language": "python",
   "name": "python3"
  },
  "language_info": {
   "codemirror_mode": {
    "name": "ipython",
    "version": 3
   },
   "file_extension": ".py",
   "mimetype": "text/x-python",
   "name": "python",
   "nbconvert_exporter": "python",
   "pygments_lexer": "ipython3",
   "version": "3.8.5"
  }
 },
 "nbformat": 4,
 "nbformat_minor": 4
}
